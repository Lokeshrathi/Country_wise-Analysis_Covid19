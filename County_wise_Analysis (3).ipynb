{
 "cells": [
  {
   "cell_type": "code",
   "execution_count": 1,
   "metadata": {},
   "outputs": [],
   "source": [
    "#import packages to read and perform analysis on the data(such as reading the file, plotting)\n",
    "import pandas as pd\n",
    "import numpy as np"
   ]
  },
  {
   "cell_type": "code",
   "execution_count": 2,
   "metadata": {},
   "outputs": [
    {
     "data": {
      "text/html": [
       "<div>\n",
       "<style scoped>\n",
       "    .dataframe tbody tr th:only-of-type {\n",
       "        vertical-align: middle;\n",
       "    }\n",
       "\n",
       "    .dataframe tbody tr th {\n",
       "        vertical-align: top;\n",
       "    }\n",
       "\n",
       "    .dataframe thead th {\n",
       "        text-align: right;\n",
       "    }\n",
       "</style>\n",
       "<table border=\"1\" class=\"dataframe\">\n",
       "  <thead>\n",
       "    <tr style=\"text-align: right;\">\n",
       "      <th></th>\n",
       "      <th>SNo</th>\n",
       "      <th>ObservationDate</th>\n",
       "      <th>Province/State</th>\n",
       "      <th>Country/Region</th>\n",
       "      <th>Last Update</th>\n",
       "      <th>Confirmed</th>\n",
       "      <th>Deaths</th>\n",
       "      <th>Recovered</th>\n",
       "    </tr>\n",
       "  </thead>\n",
       "  <tbody>\n",
       "    <tr>\n",
       "      <th>6908</th>\n",
       "      <td>6909</td>\n",
       "      <td>03/19/2020</td>\n",
       "      <td>Macau</td>\n",
       "      <td>Macau</td>\n",
       "      <td>2020-03-19T01:02:56</td>\n",
       "      <td>17.0</td>\n",
       "      <td>0.0</td>\n",
       "      <td>10.0</td>\n",
       "    </tr>\n",
       "    <tr>\n",
       "      <th>8386</th>\n",
       "      <td>8387</td>\n",
       "      <td>03/24/2020</td>\n",
       "      <td>British Columbia</td>\n",
       "      <td>Canada</td>\n",
       "      <td>2020-03-24 23:41:50</td>\n",
       "      <td>617.0</td>\n",
       "      <td>13.0</td>\n",
       "      <td>0.0</td>\n",
       "    </tr>\n",
       "    <tr>\n",
       "      <th>10182</th>\n",
       "      <td>10183</td>\n",
       "      <td>03/30/2020</td>\n",
       "      <td>NaN</td>\n",
       "      <td>Saint Vincent and the Grenadines</td>\n",
       "      <td>2020-03-30 22:58:55</td>\n",
       "      <td>1.0</td>\n",
       "      <td>0.0</td>\n",
       "      <td>1.0</td>\n",
       "    </tr>\n",
       "    <tr>\n",
       "      <th>7104</th>\n",
       "      <td>7105</td>\n",
       "      <td>03/20/2020</td>\n",
       "      <td>NaN</td>\n",
       "      <td>Mexico</td>\n",
       "      <td>2020-03-20T14:13:08</td>\n",
       "      <td>164.0</td>\n",
       "      <td>1.0</td>\n",
       "      <td>4.0</td>\n",
       "    </tr>\n",
       "    <tr>\n",
       "      <th>7244</th>\n",
       "      <td>7245</td>\n",
       "      <td>03/20/2020</td>\n",
       "      <td>NaN</td>\n",
       "      <td>Kyrgyzstan</td>\n",
       "      <td>2020-03-20T14:13:36</td>\n",
       "      <td>6.0</td>\n",
       "      <td>0.0</td>\n",
       "      <td>0.0</td>\n",
       "    </tr>\n",
       "  </tbody>\n",
       "</table>\n",
       "</div>"
      ],
      "text/plain": [
       "         SNo ObservationDate    Province/State  \\\n",
       "6908    6909      03/19/2020             Macau   \n",
       "8386    8387      03/24/2020  British Columbia   \n",
       "10182  10183      03/30/2020               NaN   \n",
       "7104    7105      03/20/2020               NaN   \n",
       "7244    7245      03/20/2020               NaN   \n",
       "\n",
       "                         Country/Region          Last Update  Confirmed  \\\n",
       "6908                              Macau  2020-03-19T01:02:56       17.0   \n",
       "8386                             Canada  2020-03-24 23:41:50      617.0   \n",
       "10182  Saint Vincent and the Grenadines  2020-03-30 22:58:55        1.0   \n",
       "7104                             Mexico  2020-03-20T14:13:08      164.0   \n",
       "7244                         Kyrgyzstan  2020-03-20T14:13:36        6.0   \n",
       "\n",
       "       Deaths  Recovered  \n",
       "6908      0.0       10.0  \n",
       "8386     13.0        0.0  \n",
       "10182     0.0        1.0  \n",
       "7104      1.0        4.0  \n",
       "7244      0.0        0.0  "
      ]
     },
     "execution_count": 2,
     "metadata": {},
     "output_type": "execute_result"
    }
   ],
   "source": [
    "#reading the dataset and display 5 random rows out of it\n",
    "df=pd.read_csv(\"covid_19_data2.csv\")\n",
    "df.sample(5)"
   ]
  },
  {
   "cell_type": "code",
   "execution_count": 3,
   "metadata": {},
   "outputs": [],
   "source": [
    "#set the index as SNo for better as our step to clean and modify the data\n",
    "df.set_index('SNo',inplace=True)"
   ]
  },
  {
   "cell_type": "code",
   "execution_count": 4,
   "metadata": {},
   "outputs": [],
   "source": [
    "#drop the column which might not be of use\n",
    "df.drop(['Province/State','Last Update'],axis=1,inplace=True)"
   ]
  },
  {
   "cell_type": "code",
   "execution_count": 5,
   "metadata": {},
   "outputs": [
    {
     "data": {
      "text/html": [
       "<div>\n",
       "<style scoped>\n",
       "    .dataframe tbody tr th:only-of-type {\n",
       "        vertical-align: middle;\n",
       "    }\n",
       "\n",
       "    .dataframe tbody tr th {\n",
       "        vertical-align: top;\n",
       "    }\n",
       "\n",
       "    .dataframe thead th {\n",
       "        text-align: right;\n",
       "    }\n",
       "</style>\n",
       "<table border=\"1\" class=\"dataframe\">\n",
       "  <thead>\n",
       "    <tr style=\"text-align: right;\">\n",
       "      <th></th>\n",
       "      <th>ObservationDate</th>\n",
       "      <th>Country/Region</th>\n",
       "      <th>Confirmed</th>\n",
       "      <th>Deaths</th>\n",
       "      <th>Recovered</th>\n",
       "    </tr>\n",
       "    <tr>\n",
       "      <th>SNo</th>\n",
       "      <th></th>\n",
       "      <th></th>\n",
       "      <th></th>\n",
       "      <th></th>\n",
       "      <th></th>\n",
       "    </tr>\n",
       "  </thead>\n",
       "  <tbody>\n",
       "    <tr>\n",
       "      <th>8085</th>\n",
       "      <td>03/23/2020</td>\n",
       "      <td>Netherlands</td>\n",
       "      <td>9.0</td>\n",
       "      <td>0.0</td>\n",
       "      <td>1.0</td>\n",
       "    </tr>\n",
       "    <tr>\n",
       "      <th>2926</th>\n",
       "      <td>03/01/2020</td>\n",
       "      <td>New Zealand</td>\n",
       "      <td>1.0</td>\n",
       "      <td>0.0</td>\n",
       "      <td>0.0</td>\n",
       "    </tr>\n",
       "    <tr>\n",
       "      <th>4335</th>\n",
       "      <td>03/09/2020</td>\n",
       "      <td>Slovenia</td>\n",
       "      <td>16.0</td>\n",
       "      <td>0.0</td>\n",
       "      <td>0.0</td>\n",
       "    </tr>\n",
       "    <tr>\n",
       "      <th>5456</th>\n",
       "      <td>03/14/2020</td>\n",
       "      <td>Lebanon</td>\n",
       "      <td>93.0</td>\n",
       "      <td>3.0</td>\n",
       "      <td>1.0</td>\n",
       "    </tr>\n",
       "    <tr>\n",
       "      <th>536</th>\n",
       "      <td>02/01/2020</td>\n",
       "      <td>Australia</td>\n",
       "      <td>4.0</td>\n",
       "      <td>0.0</td>\n",
       "      <td>0.0</td>\n",
       "    </tr>\n",
       "    <tr>\n",
       "      <th>7421</th>\n",
       "      <td>03/21/2020</td>\n",
       "      <td>US</td>\n",
       "      <td>156.0</td>\n",
       "      <td>2.0</td>\n",
       "      <td>0.0</td>\n",
       "    </tr>\n",
       "    <tr>\n",
       "      <th>3922</th>\n",
       "      <td>03/07/2020</td>\n",
       "      <td>Armenia</td>\n",
       "      <td>1.0</td>\n",
       "      <td>0.0</td>\n",
       "      <td>0.0</td>\n",
       "    </tr>\n",
       "  </tbody>\n",
       "</table>\n",
       "</div>"
      ],
      "text/plain": [
       "     ObservationDate Country/Region  Confirmed  Deaths  Recovered\n",
       "SNo                                                              \n",
       "8085      03/23/2020    Netherlands        9.0     0.0        1.0\n",
       "2926      03/01/2020    New Zealand        1.0     0.0        0.0\n",
       "4335      03/09/2020       Slovenia       16.0     0.0        0.0\n",
       "5456      03/14/2020        Lebanon       93.0     3.0        1.0\n",
       "536       02/01/2020      Australia        4.0     0.0        0.0\n",
       "7421      03/21/2020             US      156.0     2.0        0.0\n",
       "3922      03/07/2020        Armenia        1.0     0.0        0.0"
      ]
     },
     "execution_count": 5,
     "metadata": {},
     "output_type": "execute_result"
    }
   ],
   "source": [
    "#lets check the sample of 7 rows now\n",
    "df.sample(7)"
   ]
  },
  {
   "cell_type": "code",
   "execution_count": 6,
   "metadata": {},
   "outputs": [
    {
     "name": "stdout",
     "output_type": "stream",
     "text": [
      "<class 'pandas.core.frame.DataFrame'>\n",
      "Int64Index: 11299 entries, 1 to 11299\n",
      "Data columns (total 5 columns):\n",
      "ObservationDate    11299 non-null object\n",
      "Country/Region     11299 non-null object\n",
      "Confirmed          11299 non-null float64\n",
      "Deaths             11299 non-null float64\n",
      "Recovered          11299 non-null float64\n",
      "dtypes: float64(3), object(2)\n",
      "memory usage: 529.6+ KB\n"
     ]
    }
   ],
   "source": [
    "df.info()"
   ]
  },
  {
   "cell_type": "code",
   "execution_count": 7,
   "metadata": {},
   "outputs": [],
   "source": [
    "#since ['ObservationDate'] is a Object type, lets convert it to a Datetime format\n",
    "df['ObservationDate']=pd.to_datetime(df['ObservationDate'])"
   ]
  },
  {
   "cell_type": "code",
   "execution_count": 8,
   "metadata": {},
   "outputs": [
    {
     "data": {
      "text/html": [
       "<div>\n",
       "<style scoped>\n",
       "    .dataframe tbody tr th:only-of-type {\n",
       "        vertical-align: middle;\n",
       "    }\n",
       "\n",
       "    .dataframe tbody tr th {\n",
       "        vertical-align: top;\n",
       "    }\n",
       "\n",
       "    .dataframe thead th {\n",
       "        text-align: right;\n",
       "    }\n",
       "</style>\n",
       "<table border=\"1\" class=\"dataframe\">\n",
       "  <thead>\n",
       "    <tr style=\"text-align: right;\">\n",
       "      <th></th>\n",
       "      <th>ObservationDate</th>\n",
       "      <th>Country/Region</th>\n",
       "      <th>Confirmed</th>\n",
       "      <th>Deaths</th>\n",
       "      <th>Recovered</th>\n",
       "    </tr>\n",
       "    <tr>\n",
       "      <th>SNo</th>\n",
       "      <th></th>\n",
       "      <th></th>\n",
       "      <th></th>\n",
       "      <th></th>\n",
       "      <th></th>\n",
       "    </tr>\n",
       "  </thead>\n",
       "  <tbody>\n",
       "    <tr>\n",
       "      <th>353</th>\n",
       "      <td>2020-01-29</td>\n",
       "      <td>US</td>\n",
       "      <td>1.0</td>\n",
       "      <td>0.0</td>\n",
       "      <td>0.0</td>\n",
       "    </tr>\n",
       "    <tr>\n",
       "      <th>10766</th>\n",
       "      <td>2020-04-01</td>\n",
       "      <td>Libya</td>\n",
       "      <td>10.0</td>\n",
       "      <td>0.0</td>\n",
       "      <td>0.0</td>\n",
       "    </tr>\n",
       "    <tr>\n",
       "      <th>3375</th>\n",
       "      <td>2020-03-04</td>\n",
       "      <td>Sri Lanka</td>\n",
       "      <td>1.0</td>\n",
       "      <td>0.0</td>\n",
       "      <td>1.0</td>\n",
       "    </tr>\n",
       "    <tr>\n",
       "      <th>5312</th>\n",
       "      <td>2020-03-13</td>\n",
       "      <td>Romania</td>\n",
       "      <td>89.0</td>\n",
       "      <td>0.0</td>\n",
       "      <td>7.0</td>\n",
       "    </tr>\n",
       "  </tbody>\n",
       "</table>\n",
       "</div>"
      ],
      "text/plain": [
       "      ObservationDate Country/Region  Confirmed  Deaths  Recovered\n",
       "SNo                                                               \n",
       "353        2020-01-29             US        1.0     0.0        0.0\n",
       "10766      2020-04-01          Libya       10.0     0.0        0.0\n",
       "3375       2020-03-04      Sri Lanka        1.0     0.0        1.0\n",
       "5312       2020-03-13        Romania       89.0     0.0        7.0"
      ]
     },
     "execution_count": 8,
     "metadata": {},
     "output_type": "execute_result"
    }
   ],
   "source": [
    "df.sample(4)"
   ]
  },
  {
   "cell_type": "code",
   "execution_count": 9,
   "metadata": {},
   "outputs": [],
   "source": [
    "#since we want to find the analysis on countries, create a Series which will group dataset based on the countries \n",
    "Country_group=df.groupby('Country/Region')"
   ]
  },
  {
   "cell_type": "code",
   "execution_count": 10,
   "metadata": {},
   "outputs": [],
   "source": [
    "#Create a derieved column('month') which will have the months from the 'ObservationDate' column\n",
    "df['month']=df['ObservationDate'].dt.month"
   ]
  },
  {
   "cell_type": "code",
   "execution_count": 11,
   "metadata": {},
   "outputs": [
    {
     "data": {
      "text/html": [
       "<div>\n",
       "<style scoped>\n",
       "    .dataframe tbody tr th:only-of-type {\n",
       "        vertical-align: middle;\n",
       "    }\n",
       "\n",
       "    .dataframe tbody tr th {\n",
       "        vertical-align: top;\n",
       "    }\n",
       "\n",
       "    .dataframe thead th {\n",
       "        text-align: right;\n",
       "    }\n",
       "</style>\n",
       "<table border=\"1\" class=\"dataframe\">\n",
       "  <thead>\n",
       "    <tr style=\"text-align: right;\">\n",
       "      <th></th>\n",
       "      <th>ObservationDate</th>\n",
       "      <th>Country/Region</th>\n",
       "      <th>Confirmed</th>\n",
       "      <th>Deaths</th>\n",
       "      <th>Recovered</th>\n",
       "      <th>month</th>\n",
       "    </tr>\n",
       "    <tr>\n",
       "      <th>SNo</th>\n",
       "      <th></th>\n",
       "      <th></th>\n",
       "      <th></th>\n",
       "      <th></th>\n",
       "      <th></th>\n",
       "      <th></th>\n",
       "    </tr>\n",
       "  </thead>\n",
       "  <tbody>\n",
       "    <tr>\n",
       "      <th>7340</th>\n",
       "      <td>2020-03-21</td>\n",
       "      <td>Japan</td>\n",
       "      <td>1007.0</td>\n",
       "      <td>35.0</td>\n",
       "      <td>232.0</td>\n",
       "      <td>3</td>\n",
       "    </tr>\n",
       "    <tr>\n",
       "      <th>5471</th>\n",
       "      <td>2020-03-14</td>\n",
       "      <td>Russia</td>\n",
       "      <td>59.0</td>\n",
       "      <td>0.0</td>\n",
       "      <td>8.0</td>\n",
       "      <td>3</td>\n",
       "    </tr>\n",
       "    <tr>\n",
       "      <th>2492</th>\n",
       "      <td>2020-02-27</td>\n",
       "      <td>Mainland China</td>\n",
       "      <td>631.0</td>\n",
       "      <td>0.0</td>\n",
       "      <td>498.0</td>\n",
       "      <td>2</td>\n",
       "    </tr>\n",
       "    <tr>\n",
       "      <th>7917</th>\n",
       "      <td>2020-03-23</td>\n",
       "      <td>Albania</td>\n",
       "      <td>104.0</td>\n",
       "      <td>4.0</td>\n",
       "      <td>2.0</td>\n",
       "      <td>3</td>\n",
       "    </tr>\n",
       "    <tr>\n",
       "      <th>8702</th>\n",
       "      <td>2020-03-25</td>\n",
       "      <td>Denmark</td>\n",
       "      <td>132.0</td>\n",
       "      <td>0.0</td>\n",
       "      <td>38.0</td>\n",
       "      <td>3</td>\n",
       "    </tr>\n",
       "    <tr>\n",
       "      <th>10790</th>\n",
       "      <td>2020-04-01</td>\n",
       "      <td>Niger</td>\n",
       "      <td>74.0</td>\n",
       "      <td>5.0</td>\n",
       "      <td>0.0</td>\n",
       "      <td>4</td>\n",
       "    </tr>\n",
       "    <tr>\n",
       "      <th>6378</th>\n",
       "      <td>2020-03-17</td>\n",
       "      <td>Ethiopia</td>\n",
       "      <td>5.0</td>\n",
       "      <td>0.0</td>\n",
       "      <td>0.0</td>\n",
       "      <td>3</td>\n",
       "    </tr>\n",
       "  </tbody>\n",
       "</table>\n",
       "</div>"
      ],
      "text/plain": [
       "      ObservationDate  Country/Region  Confirmed  Deaths  Recovered  month\n",
       "SNo                                                                       \n",
       "7340       2020-03-21           Japan     1007.0    35.0      232.0      3\n",
       "5471       2020-03-14          Russia       59.0     0.0        8.0      3\n",
       "2492       2020-02-27  Mainland China      631.0     0.0      498.0      2\n",
       "7917       2020-03-23         Albania      104.0     4.0        2.0      3\n",
       "8702       2020-03-25         Denmark      132.0     0.0       38.0      3\n",
       "10790      2020-04-01           Niger       74.0     5.0        0.0      4\n",
       "6378       2020-03-17        Ethiopia        5.0     0.0        0.0      3"
      ]
     },
     "execution_count": 11,
     "metadata": {},
     "output_type": "execute_result"
    }
   ],
   "source": [
    "df.sample(7)"
   ]
  },
  {
   "cell_type": "code",
   "execution_count": 12,
   "metadata": {},
   "outputs": [],
   "source": [
    "# grouping the data for countries \n",
    "India_data=Country_group.get_group('India')\n",
    "US_Data=Country_group.get_group(\"US\")\n",
    "China_data=Country_group.get_group(\"Mainland China\")\n",
    "Australia_data=Country_group.get_group(\"Australia\")"
   ]
  },
  {
   "cell_type": "markdown",
   "metadata": {},
   "source": [
    "# Analysis on India"
   ]
  },
  {
   "cell_type": "code",
   "execution_count": 13,
   "metadata": {},
   "outputs": [],
   "source": [
    "#finding the Sum of Deaths cases, Confirmed cases, Recovered Cases in India based on each month\n",
    "India_death_sum=India_data.groupby('month')['Deaths'].sum()\n",
    "India_Confirmed_sum=India_data.groupby('month')['Confirmed'].sum()\n",
    "India_Recovered_sum=India_data.groupby('month')['Recovered'].sum()"
   ]
  },
  {
   "cell_type": "code",
   "execution_count": 14,
   "metadata": {},
   "outputs": [
    {
     "data": {
      "text/plain": [
       "(month\n",
       " 1      0.0\n",
       " 2      0.0\n",
       " 3    226.0\n",
       " 4    130.0\n",
       " Name: Deaths, dtype: float64, month\n",
       " 1        2.0\n",
       " 2       84.0\n",
       " 3    10252.0\n",
       " 4     4541.0\n",
       " Name: Confirmed, dtype: float64, month\n",
       " 1      0.0\n",
       " 2     42.0\n",
       " 3    822.0\n",
       " 4    339.0\n",
       " Name: Recovered, dtype: float64)"
      ]
     },
     "execution_count": 14,
     "metadata": {},
     "output_type": "execute_result"
    }
   ],
   "source": [
    "India_death_sum, India_Confirmed_sum,India_Recovered_sum"
   ]
  },
  {
   "cell_type": "code",
   "execution_count": 16,
   "metadata": {},
   "outputs": [
    {
     "data": {
      "image/png": "[encoded data removed]",
      "text/plain": [
       "<Figure size 432x288 with 1 Axes>"
      ]
     },
     "metadata": {
      "needs_background": "light"
     },
     "output_type": "display_data"
    }
   ],
   "source": [
    "import matplotlib.pyplot as plt\n",
    "x=[1,2,3,4]\n",
    "y=[0,0,226,130]\n",
    "tick_label = ['first', 'second', 'third', 'fourth'] \n",
    "plt.bar(x,y,width=0.8,tick_label = tick_label)\n",
    "plt.show()"
   ]
  },
  {
   "cell_type": "markdown",
   "metadata": {},
   "source": [
    "# Inference from the above graph is the number of deaths In India\n",
    "#22nd-31st January month= 0 Deaths\n",
    "#1st -29th February Month = 0 Deaths\n",
    "#1st -31st March Month=226 Deaths\n",
    "#1st April -3rd April= 130 Deaths"
   ]
  },
  {
   "cell_type": "markdown",
   "metadata": {},
   "source": [
    "# Analysis on USA"
   ]
  },
  {
   "cell_type": "code",
   "execution_count": 17,
   "metadata": {},
   "outputs": [],
   "source": [
    "#finding the Sum of Deaths cases, Confirmed cases, Recovered Cases in USA based on each month\n",
    "\n",
    "US_Death_sum=US_Data.groupby('month')['Deaths'].sum()\n",
    "US_Confirmed_data=US_Data.groupby('month')['Confirmed'].sum()\n",
    "US_Recovered_data=US_Data.groupby('month')['Recovered'].sum()"
   ]
  },
  {
   "cell_type": "code",
   "execution_count": 18,
   "metadata": {},
   "outputs": [
    {
     "data": {
      "text/plain": [
       "(month\n",
       " 1        0.0\n",
       " 2        1.0\n",
       " 3    18202.0\n",
       " 4    10683.0\n",
       " Name: Deaths, dtype: float64, month\n",
       " 1         37.0\n",
       " 2        718.0\n",
       " 3    1086697.0\n",
       " 4     456825.0\n",
       " Name: Confirmed, dtype: float64, month\n",
       " 1        0.0\n",
       " 2       88.0\n",
       " 3    19364.0\n",
       " 4    17475.0\n",
       " Name: Recovered, dtype: float64)"
      ]
     },
     "execution_count": 18,
     "metadata": {},
     "output_type": "execute_result"
    }
   ],
   "source": [
    "US_Death_sum, US_Confirmed_data,US_Recovered_data"
   ]
  },
  {
   "cell_type": "code",
   "execution_count": 19,
   "metadata": {},
   "outputs": [
    {
     "data": {
      "image/png": "[encoded data removed]",
      "text/plain": [
       "<Figure size 432x288 with 1 Axes>"
      ]
     },
     "metadata": {
      "needs_background": "light"
     },
     "output_type": "display_data"
    }
   ],
   "source": [
    "x=[1,2,3,4]\n",
    "y=[0,1,18202,10683]\n",
    "tick_label = ['first', 'second', 'third', 'fourth'] \n",
    "US_graph=plt.bar(x,y,width=0.8,tick_label = tick_label)\n",
    "plt.yscale('log')\n",
    "plt.show()\n",
    "\n",
    "#since the y-axis number is too huge, we take the log on the y-axis for better representation"
   ]
  },
  {
   "cell_type": "markdown",
   "metadata": {},
   "source": [
    "# Inference from the graph is the number of deaths In USA\n",
    "#22nd-31st January month= 0 Deaths\n",
    "#1st -29th February Month = 1 Deaths\n",
    "#1st -31st March Month= 18202 Deaths\n",
    "#1st April -3rd April= 10683 Deaths"
   ]
  },
  {
   "cell_type": "markdown",
   "metadata": {},
   "source": [
    "# Analysis on China\n"
   ]
  },
  {
   "cell_type": "code",
   "execution_count": 20,
   "metadata": {},
   "outputs": [],
   "source": [
    "#finding the Sum of Deaths cases, Confirmed cases, Recovered Cases in China based on each month\n",
    "\n",
    "China_Death_sum=China_data.groupby('month')['Deaths'].sum()\n",
    "China_recovery_sum=China_data.groupby('month')['Recovered'].sum()\n",
    "China_Confirmed_sum=China_data.groupby('month')['Confirmed'].sum()"
   ]
  },
  {
   "cell_type": "code",
   "execution_count": 21,
   "metadata": {},
   "outputs": [
    {
     "data": {
      "text/plain": [
       "(month\n",
       " 1      889.0\n",
       " 2    46380.0\n",
       " 3    98374.0\n",
       " 4     6630.0\n",
       " Name: Deaths, dtype: float64, month\n",
       " 1      37897.0\n",
       " 2    1631535.0\n",
       " 3    2506812.0\n",
       " 4     163144.0\n",
       " Name: Confirmed, dtype: float64, month\n",
       " 1        810.0\n",
       " 2     376775.0\n",
       " 3    2005308.0\n",
       " 4     152656.0\n",
       " Name: Recovered, dtype: float64)"
      ]
     },
     "execution_count": 21,
     "metadata": {},
     "output_type": "execute_result"
    }
   ],
   "source": [
    "China_Death_sum,China_Confirmed_sum,China_recovery_sum"
   ]
  },
  {
   "cell_type": "code",
   "execution_count": 22,
   "metadata": {},
   "outputs": [
    {
     "data": {
      "image/png": "[encoded data removed]",
      "text/plain": [
       "<Figure size 432x288 with 1 Axes>"
      ]
     },
     "metadata": {
      "needs_background": "light"
     },
     "output_type": "display_data"
    }
   ],
   "source": [
    "x=[1,2,3,4]\n",
    "y=[889,46380,98374,6630]\n",
    "tick_label = ['first', 'second', 'third', 'fourth'] \n",
    "US_graph=plt.bar(x,y,width=0.8,tick_label = tick_label)\n",
    "plt.yscale('log')\n",
    "plt.show()\n",
    "#since the y-axis number is too huge, we take the log on the y-axis for better representation"
   ]
  },
  {
   "cell_type": "markdown",
   "metadata": {},
   "source": [
    "# Inference from the graph is the number of deaths In USA\n",
    "#22nd-31st January month= 889 Deaths\n",
    "\n",
    "#1st -29th February Month = 46380 Deaths\n",
    "\n",
    "#1st -31st March Month= 98374 Deaths\n",
    "\n",
    "#1st April -3rd April= 6630 Deaths"
   ]
  }
 ],
 "metadata": {
  "kernelspec": {
   "display_name": "Python 3",
   "language": "python",
   "name": "python3"
  },
  "language_info": {
   "codemirror_mode": {
    "name": "ipython",
    "version": 3
   },
   "file_extension": ".py",
   "mimetype": "text/x-python",
   "name": "python",
   "nbconvert_exporter": "python",
   "pygments_lexer": "ipython3",
   "version": "3.7.3"
  }
 },
 "nbformat": 4,
 "nbformat_minor": 2
}
